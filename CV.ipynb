{
 "cells": [
  {
   "cell_type": "code",
   "execution_count": 4,
   "id": "initial_id",
   "metadata": {
    "collapsed": true,
    "ExecuteTime": {
     "end_time": "2024-09-17T08:37:17.444738Z",
     "start_time": "2024-09-17T08:37:17.439909Z"
    }
   },
   "outputs": [],
   "source": [
    "import numpy as np\n",
    "import cv2 as cv"
   ]
  },
  {
   "cell_type": "markdown",
   "source": [],
   "metadata": {
    "collapsed": false
   },
   "id": "2c8cb59cefc29067"
  },
  {
   "cell_type": "code",
   "outputs": [],
   "source": [
    "img = cv.imread('C:/Users/sanya/Downloads/cK1tuAJa6j8.jpg')\n",
    "assert img is not None, \"file could not be read, check with os.path.exists()\""
   ],
   "metadata": {
    "collapsed": false,
    "ExecuteTime": {
     "end_time": "2024-09-17T09:15:13.179419Z",
     "start_time": "2024-09-17T09:15:13.171499Z"
    }
   },
   "id": "9fc139715f03923f",
   "execution_count": 64
  },
  {
   "cell_type": "code",
   "outputs": [
    {
     "data": {
      "text/plain": "array([[[ 67,  66,  52],\n        [ 68,  67,  53],\n        [ 71,  68,  53],\n        ...,\n        [202, 187, 161],\n        [208, 193, 167],\n        [208, 193, 167]],\n\n       [[ 72,  71,  57],\n        [ 72,  71,  57],\n        [ 75,  72,  58],\n        ...,\n        [201, 186, 160],\n        [202, 187, 161],\n        [202, 187, 161]],\n\n       [[ 79,  75,  64],\n        [ 79,  76,  62],\n        [ 82,  76,  63],\n        ...,\n        [199, 184, 158],\n        [198, 183, 157],\n        [198, 183, 157]],\n\n       ...,\n\n       [[ 76, 106, 111],\n        [ 75, 105, 110],\n        [ 75, 104, 109],\n        ...,\n        [ 50,  64,  62],\n        [ 72,  86,  84],\n        [ 67,  81,  79]],\n\n       [[ 77, 107, 112],\n        [ 76, 106, 111],\n        [ 75, 104, 109],\n        ...,\n        [ 91, 105, 103],\n        [ 70,  84,  82],\n        [ 66,  80,  78]],\n\n       [[ 79, 109, 114],\n        [ 78, 108, 113],\n        [ 76, 105, 110],\n        ...,\n        [ 52,  65,  63],\n        [ 61,  74,  72],\n        [ 58,  71,  69]]], dtype=uint8)"
     },
     "execution_count": 8,
     "metadata": {},
     "output_type": "execute_result"
    }
   ],
   "source": [
    "img"
   ],
   "metadata": {
    "collapsed": false,
    "ExecuteTime": {
     "end_time": "2024-09-17T08:43:01.565524Z",
     "start_time": "2024-09-17T08:43:01.552917Z"
    }
   },
   "id": "97b99776f2efbc41",
   "execution_count": 8
  },
  {
   "cell_type": "code",
   "outputs": [
    {
     "name": "stdout",
     "output_type": "stream",
     "text": [
      "[15 23 22]\n"
     ]
    }
   ],
   "source": [
    "px = img[100, 100]\n",
    "print(px)"
   ],
   "metadata": {
    "collapsed": false,
    "ExecuteTime": {
     "end_time": "2024-09-17T08:43:28.567679Z",
     "start_time": "2024-09-17T08:43:28.562037Z"
    }
   },
   "id": "a4a0bdf94b61735b",
   "execution_count": 9
  },
  {
   "cell_type": "code",
   "outputs": [
    {
     "name": "stdout",
     "output_type": "stream",
     "text": [
      "15\n"
     ]
    }
   ],
   "source": [
    "blue = img[100,100,0]\n",
    "print(blue)"
   ],
   "metadata": {
    "collapsed": false,
    "ExecuteTime": {
     "end_time": "2024-09-17T08:45:08.186048Z",
     "start_time": "2024-09-17T08:45:08.180403Z"
    }
   },
   "id": "2f9bdb9c7a00cc3f",
   "execution_count": 10
  },
  {
   "cell_type": "code",
   "outputs": [
    {
     "name": "stdout",
     "output_type": "stream",
     "text": [
      "[255 255 255]\n"
     ]
    }
   ],
   "source": [
    "img[100, 100] = [255,255, 255]\n",
    "print(img[100,100])"
   ],
   "metadata": {
    "collapsed": false,
    "ExecuteTime": {
     "end_time": "2024-09-17T08:46:02.943958Z",
     "start_time": "2024-09-17T08:46:02.938544Z"
    }
   },
   "id": "7efedeab2195d35a",
   "execution_count": 11
  },
  {
   "cell_type": "code",
   "outputs": [
    {
     "data": {
      "text/plain": "61"
     },
     "execution_count": 12,
     "metadata": {},
     "output_type": "execute_result"
    }
   ],
   "source": [
    "img.item(10,10,2)"
   ],
   "metadata": {
    "collapsed": false,
    "ExecuteTime": {
     "end_time": "2024-09-17T08:46:12.166200Z",
     "start_time": "2024-09-17T08:46:12.157757Z"
    }
   },
   "id": "b45ac9a65f70862f",
   "execution_count": 12
  },
  {
   "cell_type": "code",
   "outputs": [
    {
     "data": {
      "text/plain": "100"
     },
     "execution_count": 13,
     "metadata": {},
     "output_type": "execute_result"
    }
   ],
   "source": [
    "img.itemset((10,10,2),100)\n",
    "img.item(10,10,2)"
   ],
   "metadata": {
    "collapsed": false,
    "ExecuteTime": {
     "end_time": "2024-09-17T08:46:53.111170Z",
     "start_time": "2024-09-17T08:46:53.102738Z"
    }
   },
   "id": "5e6b3f0bc377b878",
   "execution_count": 13
  },
  {
   "cell_type": "code",
   "outputs": [
    {
     "name": "stdout",
     "output_type": "stream",
     "text": [
      "(187, 250, 3)\n"
     ]
    }
   ],
   "source": [
    "print( img.shape )"
   ],
   "metadata": {
    "collapsed": false,
    "ExecuteTime": {
     "end_time": "2024-09-17T08:47:04.216924Z",
     "start_time": "2024-09-17T08:47:04.212859Z"
    }
   },
   "id": "f3ffec9b560b14eb",
   "execution_count": 14
  },
  {
   "cell_type": "code",
   "outputs": [
    {
     "name": "stdout",
     "output_type": "stream",
     "text": [
      "140250\n"
     ]
    }
   ],
   "source": [
    "print( img.size )"
   ],
   "metadata": {
    "collapsed": false,
    "ExecuteTime": {
     "end_time": "2024-09-17T08:47:11.174575Z",
     "start_time": "2024-09-17T08:47:11.169399Z"
    }
   },
   "id": "9ea36ac3da3f923c",
   "execution_count": 15
  },
  {
   "cell_type": "code",
   "outputs": [
    {
     "name": "stdout",
     "output_type": "stream",
     "text": [
      "uint8\n"
     ]
    }
   ],
   "source": [
    "print( img.dtype )"
   ],
   "metadata": {
    "collapsed": false,
    "ExecuteTime": {
     "end_time": "2024-09-17T08:47:15.883525Z",
     "start_time": "2024-09-17T08:47:15.877481Z"
    }
   },
   "id": "46e5c85a52dbde09",
   "execution_count": 16
  },
  {
   "cell_type": "code",
   "outputs": [],
   "source": [
    "cv.imshow('img',img)\n",
    "k = cv.waitKey(0)"
   ],
   "metadata": {
    "collapsed": false,
    "ExecuteTime": {
     "end_time": "2024-09-17T09:16:38.643868Z",
     "start_time": "2024-09-17T09:16:23.403248Z"
    }
   },
   "id": "a71e7fd3e19f7462",
   "execution_count": 68
  },
  {
   "cell_type": "code",
   "outputs": [
    {
     "name": "stdout",
     "output_type": "stream",
     "text": [
      "(187, 250, 3)\n"
     ]
    }
   ],
   "source": [
    "print( img.shape )"
   ],
   "metadata": {
    "collapsed": false,
    "ExecuteTime": {
     "end_time": "2024-09-17T09:12:13.577376Z",
     "start_time": "2024-09-17T09:12:13.571026Z"
    }
   },
   "id": "df0c43c163fcb9d8",
   "execution_count": 60
  },
  {
   "cell_type": "markdown",
   "source": [],
   "metadata": {
    "collapsed": false
   },
   "id": "7b0408c0c1839a55"
  },
  {
   "cell_type": "code",
   "outputs": [],
   "source": [
    "morda = img[10:130, 70:150]\n",
    "\n",
    "cv.imshow('img',morda)\n",
    "k = cv.waitKey(0)"
   ],
   "metadata": {
    "collapsed": false,
    "ExecuteTime": {
     "end_time": "2024-09-17T09:43:46.998828Z",
     "start_time": "2024-09-17T09:43:44.334882Z"
    }
   },
   "id": "33c1398782581f0f",
   "execution_count": 95
  },
  {
   "cell_type": "code",
   "outputs": [],
   "source": [
    "b, g, r = cv.split(img)\n",
    "img = cv.merge((b,g,r))"
   ],
   "metadata": {
    "collapsed": false,
    "ExecuteTime": {
     "end_time": "2024-09-17T09:14:08.412414Z",
     "start_time": "2024-09-17T09:14:08.407512Z"
    }
   },
   "id": "cb9a9c29ff3abb9c",
   "execution_count": 61
  },
  {
   "cell_type": "code",
   "outputs": [
    {
     "name": "stdout",
     "output_type": "stream",
     "text": [
      "[[260.]\n",
      " [  0.]\n",
      " [  0.]\n",
      " [  0.]]\n"
     ]
    }
   ],
   "source": [
    "x = np.uint8([250])\n",
    "y = np.uint8([10])\n",
    "\n",
    "print( cv.add(x,y) )"
   ],
   "metadata": {
    "collapsed": false,
    "ExecuteTime": {
     "end_time": "2024-09-17T09:20:30.533796Z",
     "start_time": "2024-09-17T09:20:30.527095Z"
    }
   },
   "id": "3994498de242af40",
   "execution_count": 78
  },
  {
   "cell_type": "code",
   "outputs": [
    {
     "name": "stdout",
     "output_type": "stream",
     "text": [
      "[4]\n"
     ]
    }
   ],
   "source": [
    "print( x+y )"
   ],
   "metadata": {
    "collapsed": false,
    "ExecuteTime": {
     "end_time": "2024-09-17T09:20:39.062014Z",
     "start_time": "2024-09-17T09:20:39.056962Z"
    }
   },
   "id": "279ad4ac7b3531f9",
   "execution_count": 79
  },
  {
   "cell_type": "code",
   "outputs": [
    {
     "ename": "error",
     "evalue": "OpenCV(4.10.0) D:\\a\\opencv-python\\opencv-python\\opencv\\modules\\core\\src\\arithm.cpp:661: error: (-209:Sizes of input arguments do not match) The operation is neither 'array op array' (where arrays have the same size and the same number of channels), nor 'array op scalar', nor 'scalar op array' in function 'cv::arithm_op'\n",
     "output_type": "error",
     "traceback": [
      "\u001B[1;31m---------------------------------------------------------------------------\u001B[0m",
      "\u001B[1;31merror\u001B[0m                                     Traceback (most recent call last)",
      "Cell \u001B[1;32mIn[94], line 5\u001B[0m\n\u001B[0;32m      2\u001B[0m \u001B[38;5;28;01massert\u001B[39;00m img \u001B[38;5;129;01mis\u001B[39;00m \u001B[38;5;129;01mnot\u001B[39;00m \u001B[38;5;28;01mNone\u001B[39;00m, \u001B[38;5;124m\"\u001B[39m\u001B[38;5;124mfile could not be read, check with os.path.exists()\u001B[39m\u001B[38;5;124m\"\u001B[39m\n\u001B[0;32m      3\u001B[0m \u001B[38;5;66;03m#C:\\Users\\sanya\\Downloads/YUz0rNTkkPI.jpg\u001B[39;00m\n\u001B[1;32m----> 5\u001B[0m dst \u001B[38;5;241m=\u001B[39m cv\u001B[38;5;241m.\u001B[39maddWeighted(img,\u001B[38;5;241m0.7\u001B[39m,img2,\u001B[38;5;241m0.3\u001B[39m,\u001B[38;5;241m0\u001B[39m)\n\u001B[0;32m      7\u001B[0m cv\u001B[38;5;241m.\u001B[39mimshow(\u001B[38;5;124m'\u001B[39m\u001B[38;5;124mdst\u001B[39m\u001B[38;5;124m'\u001B[39m,dst)\n\u001B[0;32m      8\u001B[0m cv\u001B[38;5;241m.\u001B[39mwaitKey(\u001B[38;5;241m0\u001B[39m)\n",
      "\u001B[1;31merror\u001B[0m: OpenCV(4.10.0) D:\\a\\opencv-python\\opencv-python\\opencv\\modules\\core\\src\\arithm.cpp:661: error: (-209:Sizes of input arguments do not match) The operation is neither 'array op array' (where arrays have the same size and the same number of channels), nor 'array op scalar', nor 'scalar op array' in function 'cv::arithm_op'\n"
     ]
    }
   ],
   "source": [
    "img2 = cv.imread('C:/Users/sanya/Downloads/YUz0rNTkkPI.jpg')\n",
    "assert img is not None, \"file could not be read, check with os.path.exists()\"\n",
    "#C:\\Users\\sanya\\Downloads/YUz0rNTkkPI.jpg\n",
    "\n",
    "dst = cv.addWeighted(img,0.7,img2,0.3,0)\n",
    "\n",
    "cv.imshow('dst',dst)\n",
    "cv.waitKey(0)\n",
    "cv.destroyAllWindows()"
   ],
   "metadata": {
    "collapsed": false,
    "ExecuteTime": {
     "end_time": "2024-09-17T09:41:42.799731Z",
     "start_time": "2024-09-17T09:41:42.769049Z"
    }
   },
   "id": "2e0a3469be7af8b5",
   "execution_count": 94
  },
  {
   "cell_type": "code",
   "outputs": [],
   "source": [],
   "metadata": {
    "collapsed": false
   },
   "id": "9b691a40f99c45e9"
  },
  {
   "cell_type": "code",
   "outputs": [
    {
     "name": "stdout",
     "output_type": "stream",
     "text": [
      "(502, 604, 3)\n"
     ]
    }
   ],
   "source": [
    "print(img2.shape)"
   ],
   "metadata": {
    "collapsed": false,
    "ExecuteTime": {
     "end_time": "2024-09-17T09:24:17.887592Z",
     "start_time": "2024-09-17T09:24:17.882272Z"
    }
   },
   "id": "cd380a23cdbcded6",
   "execution_count": 84
  },
  {
   "cell_type": "code",
   "outputs": [],
   "source": [
    "new_img = img2[0:187, 0:250]"
   ],
   "metadata": {
    "collapsed": false,
    "ExecuteTime": {
     "end_time": "2024-09-17T09:29:01.974198Z",
     "start_time": "2024-09-17T09:29:01.970068Z"
    }
   },
   "id": "87a8e5295843a1b4",
   "execution_count": 85
  },
  {
   "cell_type": "code",
   "outputs": [
    {
     "data": {
      "text/plain": "(187, 250, 3)"
     },
     "execution_count": 86,
     "metadata": {},
     "output_type": "execute_result"
    }
   ],
   "source": [
    "new_img.shape"
   ],
   "metadata": {
    "collapsed": false,
    "ExecuteTime": {
     "end_time": "2024-09-17T09:29:11.014164Z",
     "start_time": "2024-09-17T09:29:11.007884Z"
    }
   },
   "id": "b1947e90ff4c15d2",
   "execution_count": 86
  },
  {
   "cell_type": "code",
   "outputs": [],
   "source": [
    "dst = cv.addWeighted(img,0.7,new_img,0.9,0)\n",
    "\n",
    "cv.imshow('dst',dst)\n",
    "cv.waitKey(0)\n",
    "cv.destroyAllWindows()"
   ],
   "metadata": {
    "collapsed": false,
    "ExecuteTime": {
     "end_time": "2024-09-17T09:36:14.995616Z",
     "start_time": "2024-09-17T09:31:33.524985Z"
    }
   },
   "id": "dd4551fe7764bc3a",
   "execution_count": 90
  },
  {
   "cell_type": "code",
   "outputs": [],
   "source": [
    "# Load two images\n",
    "img = cv.imread('C:/Users/sanya/Downloads/cK1tuAJa6j8.jpg')\n",
    "img2 = cv.imread('C:/Users/sanya/Downloads/YUz0rNTkkPI.jpg')\n",
    "assert img is not None, \"file could not be read, check with os.path.exists()\"\n",
    "img2 = img2[0:187, 0:250]\n",
    "\n",
    "# I want to put logo on top-left corner, So I create a ROI\n",
    "rows,cols,channels = img2.shape\n",
    "roi = img[0:rows, 0:cols]\n",
    "\n",
    "# Now create a mask of logo and create its inverse mask also\n",
    "img2gray = cv.cvtColor(img2,cv.COLOR_BGR2GRAY)\n",
    "ret, mask = cv.threshold(img2gray, 10, 255, cv.THRESH_BINARY)\n",
    "mask_inv = cv.bitwise_not(mask)\n",
    "\n",
    "# Now black-out the area of logo in ROI\n",
    "img1_bg = cv.bitwise_and(roi,roi,mask = mask_inv)\n",
    "\n",
    "# Take only region of logo from logo image.\n",
    "img2_fg = cv.bitwise_and(img2,img2,mask = mask)\n",
    "\n",
    "# Put logo in ROI and modify the main image\n",
    "dst = cv.add(img1_bg,img2_fg)\n",
    "img[0:rows, 0:cols ] = dst\n",
    "\n",
    "cv.imshow('res',img)\n",
    "cv.waitKey(0)\n",
    "cv.destroyAllWindows()"
   ],
   "metadata": {
    "collapsed": false,
    "ExecuteTime": {
     "end_time": "2024-09-17T09:44:43.369075Z",
     "start_time": "2024-09-17T09:43:53.344425Z"
    }
   },
   "id": "f18a57116a103f93",
   "execution_count": 96
  },
  {
   "cell_type": "code",
   "outputs": [],
   "source": [],
   "metadata": {
    "collapsed": false
   },
   "id": "40a721d7dc4951b4"
  }
 ],
 "metadata": {
  "kernelspec": {
   "display_name": "Python 3",
   "language": "python",
   "name": "python3"
  },
  "language_info": {
   "codemirror_mode": {
    "name": "ipython",
    "version": 2
   },
   "file_extension": ".py",
   "mimetype": "text/x-python",
   "name": "python",
   "nbconvert_exporter": "python",
   "pygments_lexer": "ipython2",
   "version": "2.7.6"
  }
 },
 "nbformat": 4,
 "nbformat_minor": 5
}
