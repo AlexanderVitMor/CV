{
 "cells": [
  {
   "cell_type": "code",
   "outputs": [],
   "source": [
    "import numpy as np\n",
    "import cv2\n",
    "import  imutils\n",
    "\n",
    "# Read the image file\n",
    "image = cv2.imread('Datasets/train/A023TY97.jpg')\n",
    "\n",
    "# Resize the image - change width to 500\n",
    "image = imutils.resize(image, width=1500)\n",
    "\n",
    "# Display the original image\n",
    "cv2.imshow(\"Original Image\", image)\n",
    "k = cv2.waitKey(0)"
   ],
   "metadata": {
    "collapsed": false,
    "ExecuteTime": {
     "end_time": "2024-09-18T11:22:41.546016Z",
     "start_time": "2024-09-18T11:22:39.706898Z"
    }
   },
   "id": "739b2624f3767ad8",
   "execution_count": 18
  },
  {
   "cell_type": "code",
   "outputs": [],
   "source": [
    "\n",
    "# RGB to Gray scale conversion\n",
    "gray = cv2.cvtColor(image, cv2.COLOR_BGR2GRAY)\n",
    "cv2.imshow(\"1 - Grayscale Conversion\", gray)\n",
    "k = cv2.waitKey(0)\n"
   ],
   "metadata": {
    "collapsed": false,
    "ExecuteTime": {
     "end_time": "2024-09-18T11:37:59.919402Z",
     "start_time": "2024-09-18T11:37:57.977653Z"
    }
   },
   "id": "970f220788a4fe1f",
   "execution_count": 29
  },
  {
   "cell_type": "code",
   "outputs": [],
   "source": [
    "\n",
    "# Noise removal with iterative bilateral filter(removes noise while preserving edges)\n",
    "gray = cv2.bilateralFilter(gray, 10, 17, 50)\n",
    "cv2.imshow(\"2 - Bilateral Filter\", gray)\n",
    "k = cv2.waitKey(0)\n"
   ],
   "metadata": {
    "collapsed": false,
    "ExecuteTime": {
     "end_time": "2024-09-18T11:37:56.110488Z",
     "start_time": "2024-09-18T11:37:52.229552Z"
    }
   },
   "id": "12cbd18121d23ff4",
   "execution_count": 28
  },
  {
   "cell_type": "code",
   "outputs": [],
   "source": [
    "\n",
    "# Find Edges of the grayscale image\n",
    "edged = cv2.Canny(gray, 100, 200)\n",
    "cv2.imshow(\"4 - Canny Edges\", edged)\n",
    "k = cv2.waitKey(0)\n"
   ],
   "metadata": {
    "collapsed": false,
    "ExecuteTime": {
     "end_time": "2024-09-18T11:26:48.507604Z",
     "start_time": "2024-09-18T11:24:13.473802Z"
    }
   },
   "id": "7790090f5b5d8787",
   "execution_count": 26
  },
  {
   "cell_type": "code",
   "outputs": [
    {
     "ename": "ValueError",
     "evalue": "not enough values to unpack (expected 3, got 2)",
     "output_type": "error",
     "traceback": [
      "\u001B[1;31m---------------------------------------------------------------------------\u001B[0m",
      "\u001B[1;31mValueError\u001B[0m                                Traceback (most recent call last)",
      "Cell \u001B[1;32mIn[27], line 2\u001B[0m\n\u001B[0;32m      1\u001B[0m \u001B[38;5;66;03m# Find contours based on Edges\u001B[39;00m\n\u001B[1;32m----> 2\u001B[0m (new, cnts, _) \u001B[38;5;241m=\u001B[39m cv2\u001B[38;5;241m.\u001B[39mfindContours(edged\u001B[38;5;241m.\u001B[39mcopy(), cv2\u001B[38;5;241m.\u001B[39mRETR_LIST, cv2\u001B[38;5;241m.\u001B[39mCHAIN_APPROX_SIMPLE)\n\u001B[0;32m      3\u001B[0m cnts\u001B[38;5;241m=\u001B[39m\u001B[38;5;28msorted\u001B[39m(cnts, key \u001B[38;5;241m=\u001B[39m cv2\u001B[38;5;241m.\u001B[39mcontourArea, reverse \u001B[38;5;241m=\u001B[39m \u001B[38;5;28;01mTrue\u001B[39;00m)[:\u001B[38;5;241m30\u001B[39m] \u001B[38;5;66;03m#sort contours based on their area keeping minimum required area as '30' (anything smaller than this will not be considered)\u001B[39;00m\n\u001B[0;32m      4\u001B[0m NumberPlateCnt \u001B[38;5;241m=\u001B[39m \u001B[38;5;28;01mNone\u001B[39;00m \u001B[38;5;66;03m#we currently have no Number plate contour\u001B[39;00m\n",
      "\u001B[1;31mValueError\u001B[0m: not enough values to unpack (expected 3, got 2)"
     ]
    }
   ],
   "source": [
    "\n",
    "# Find contours based on Edges\n",
    "(new, cnts, _) = cv2.findContours(edged.copy(), cv2.RETR_LIST, cv2.CHAIN_APPROX_SIMPLE)\n",
    "cnts=sorted(cnts, key = cv2.contourArea, reverse = True)[:30] #sort contours based on their area keeping minimum required area as '30' (anything smaller than this will not be considered)\n",
    "NumberPlateCnt = None #we currently have no Number plate contour\n",
    "\n",
    "# loop over our contours to find the best possible approximate contour of number plate\n",
    "count = 0\n",
    "for c in cnts:\n",
    "    peri = cv2.arcLength(c, True)\n",
    "    approx = cv2.approxPolyDP(c, 0.02 * peri, True)\n",
    "    if len(approx) == 4:  # Select the contour with 4 corners\n",
    "        NumberPlateCnt = approx #This is our approx Number Plate Contour\n",
    "        break\n",
    "\n",
    "\n",
    "# Drawing the selected contour on the original image\n",
    "cv2.drawContours(image, [NumberPlateCnt], -1, (0,255,0), 3)\n",
    "cv2.imshow(\"Final Image With Number Plate Detected\", image)\n",
    "\n",
    "cv2.waitKey(0) #Wait for user input before closing the images displayed"
   ],
   "metadata": {
    "collapsed": false,
    "ExecuteTime": {
     "end_time": "2024-09-18T11:26:52.519980Z",
     "start_time": "2024-09-18T11:26:52.442192Z"
    }
   },
   "id": "5671f58756093bb3",
   "execution_count": 27
  },
  {
   "cell_type": "code",
   "outputs": [],
   "source": [],
   "metadata": {
    "collapsed": false
   },
   "id": "a9a331fcc346b595"
  }
 ],
 "metadata": {
  "kernelspec": {
   "display_name": "Python 3",
   "language": "python",
   "name": "python3"
  },
  "language_info": {
   "codemirror_mode": {
    "name": "ipython",
    "version": 2
   },
   "file_extension": ".py",
   "mimetype": "text/x-python",
   "name": "python",
   "nbconvert_exporter": "python",
   "pygments_lexer": "ipython2",
   "version": "2.7.6"
  }
 },
 "nbformat": 4,
 "nbformat_minor": 5
}
